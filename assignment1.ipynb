{
 "cells": [
  {
   "cell_type": "code",
   "execution_count": 6,
   "metadata": {},
   "outputs": [
    {
     "name": "stdout",
     "output_type": "stream",
     "text": [
      "   Unnamed: 0                                      name  grape  \\\n",
      "0           0  Laurenz V Charming Gruner Veltliner 2013    NaN   \n",
      "1           1  Laurenz V Charming Gruner Veltliner 2014    NaN   \n",
      "2           2   Laurenz V Singing Gruner Veltliner 2007    NaN   \n",
      "3           3   Laurenz V Singing Gruner Veltliner 2010    NaN   \n",
      "4           4   Laurenz V Singing Gruner Veltliner 2011    NaN   \n",
      "\n",
      "             region     variety  rating  \\\n",
      "0  Kamptal, Austria  White Wine    90.0   \n",
      "1  Kamptal, Austria  White Wine    90.0   \n",
      "2           Austria  White Wine    90.0   \n",
      "3           Austria  White Wine    88.0   \n",
      "4           Austria  White Wine    88.0   \n",
      "\n",
      "                                               notes  \n",
      "0  Aromas of ripe apples and a typical Veltliner ...  \n",
      "1  Aromas of ripe apples and a typical Veltliner ...  \n",
      "2  A very attractive fruit bouquet yields apple, ...  \n",
      "3  A very attractive fruit bouquet yields apple, ...  \n",
      "4  A very attractive fruit bouquet yields apple, ...  \n"
     ]
    }
   ],
   "source": [
    "#loading csv file in the notebook\n",
    "import pandas as pd\n",
    "df = pd.read_csv(\"wine-ratings-small.csv\")\n",
    "print(df.head())"
   ]
  },
  {
   "cell_type": "code",
   "execution_count": 37,
   "metadata": {},
   "outputs": [
    {
     "name": "stdout",
     "output_type": "stream",
     "text": [
      "Index(['Unnamed: 0', 'name', 'grape', 'region', 'variety', 'rating', 'notes'], dtype='object')\n"
     ]
    }
   ],
   "source": [
    "print(df.keys())"
   ]
  },
  {
   "cell_type": "code",
   "execution_count": 72,
   "metadata": {},
   "outputs": [],
   "source": [
    "import pandas\n",
    "type(df['rating'])\n",
    "score = df['rating'].to_dict()\n",
    "# print(score)"
   ]
  },
  {
   "cell_type": "code",
   "execution_count": 68,
   "metadata": {},
   "outputs": [],
   "source": [
    "# print(score)\n",
    "dictscore = {}\n",
    "for i,j in score.items():\n",
    "    if(j>=90 and j<=92):\n",
    "        dictscore[i]=j\n"
   ]
  },
  {
   "cell_type": "code",
   "execution_count": 82,
   "metadata": {},
   "outputs": [
    {
     "name": "stdout",
     "output_type": "stream",
     "text": [
      "514\n"
     ]
    }
   ],
   "source": [
    "print(len(dictscore))\n",
    "# dictscore"
   ]
  },
  {
   "cell_type": "code",
   "execution_count": 85,
   "metadata": {},
   "outputs": [
    {
     "name": "stdout",
     "output_type": "stream",
     "text": [
      "780\n"
     ]
    }
   ],
   "source": [
    "winetype = df['variety'].to_dict()\n",
    "print(len(winetype))"
   ]
  },
  {
   "cell_type": "code",
   "execution_count": 77,
   "metadata": {},
   "outputs": [],
   "source": [
    "dicttype = {}\n",
    "for key in winetype:\n",
    "    if key in dictscore:\n",
    "        dicttype[key] = winetype[key]"
   ]
  },
  {
   "cell_type": "code",
   "execution_count": 81,
   "metadata": {},
   "outputs": [
    {
     "name": "stdout",
     "output_type": "stream",
     "text": [
      "514\n"
     ]
    }
   ],
   "source": [
    "print(len(dicttype))\n",
    "# dicttype"
   ]
  },
  {
   "cell_type": "code",
   "execution_count": 84,
   "metadata": {},
   "outputs": [
    {
     "name": "stdout",
     "output_type": "stream",
     "text": [
      "514\n"
     ]
    }
   ],
   "source": [
    "wineregion = df['region'].to_dict()\n",
    "dictregion= {}\n",
    "for key in wineregion:\n",
    "    if key in dictscore:\n",
    "        dictregion[key] = winetype[key]\n",
    "print(len(dictregion))"
   ]
  },
  {
   "cell_type": "code",
   "execution_count": 90,
   "metadata": {},
   "outputs": [],
   "source": [
    "#retrieve data to single dict\n",
    "dict = {\"type\": [],\"rating\":[],\"region\":[]}\n",
    "for key in dicttype:\n",
    "    data = {\"type\":dicttype[key],\"rating\":dictscore[key],\"region\":dictregion[key]}\n",
    "    dict[key] = data"
   ]
  },
  {
   "cell_type": "code",
   "execution_count": 94,
   "metadata": {},
   "outputs": [],
   "source": [
    "# print(dict)"
   ]
  },
  {
   "cell_type": "code",
   "execution_count": 93,
   "metadata": {},
   "outputs": [],
   "source": [
    "#Capture every row that matches condition, \n",
    "#and after processing, save everything to a formatted new JSON file\n",
    "with open(\"formatted.json\",\"w\") as f:\n",
    "    json.dump(dict, f)"
   ]
  },
  {
   "cell_type": "code",
   "execution_count": null,
   "metadata": {},
   "outputs": [],
   "source": []
  }
 ],
 "metadata": {
  "kernelspec": {
   "display_name": "Python 3",
   "language": "python",
   "name": "python3"
  },
  "language_info": {
   "codemirror_mode": {
    "name": "ipython",
    "version": 3
   },
   "file_extension": ".py",
   "mimetype": "text/x-python",
   "name": "python",
   "nbconvert_exporter": "python",
   "pygments_lexer": "ipython3",
   "version": "3.7.4"
  }
 },
 "nbformat": 4,
 "nbformat_minor": 2
}
